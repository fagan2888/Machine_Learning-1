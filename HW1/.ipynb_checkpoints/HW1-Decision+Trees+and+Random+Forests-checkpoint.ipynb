{
 "cells": [
  {
   "cell_type": "markdown",
   "metadata": {},
   "source": [
    "# Machine Learning --Assignment 1: Decision Tree & Random Forest \n",
    "## Author: Xiao Jing (xj655@nyu.edu)"
   ]
  },
  {
   "cell_type": "markdown",
   "metadata": {
    "collapsed": true
   },
   "source": [
    "### Question 1: Accuracy and interpretability (10 pts)\n",
    "\n",
    "a) Describe a real-world prediction problem using urban data for which _interpretability_ of your models and results is essential, and for which it might be preferable to use decision trees rather than random forests.  Argue why this is the case. (3 pts)"
   ]
  },
  {
   "cell_type": "markdown",
   "metadata": {},
   "source": [
    "**Answer:**\n",
    "\n",
    "When we aim to figuring out what features are affecting road safety, we need to interpret the feature importance from one decision tree. That is to find out whether the variable A road width or variable B road transportation light number increase the risk of the accidents happening at one crossing. We need to find the variables and use limited capital to invest on these several variables when repairing the road, while predicting a new crossing road safe or not is meaningless.\n"
   ]
  },
  {
   "cell_type": "markdown",
   "metadata": {},
   "source": [
    "b) Describe a real-world prediction problem using urban data for which _accuracy_ is paramount and interpretability may be less important, and for which it might be preferable to use random forests rather than decision trees.  Argue why this is the case. (3 pts)"
   ]
  },
  {
   "cell_type": "markdown",
   "metadata": {},
   "source": [
    "**Answer:**\n",
    "\n",
    "In public health care, when we detecting the possible area of flu prevail, we use the trained random forest model and to predict each borough or county  using data including population flow or temperature. In this case, we just want to detect the potential area, so random forest and accuracy will be more important."
   ]
  },
  {
   "cell_type": "markdown",
   "metadata": {},
   "source": [
    "c) Let's imagine that you want to try to get the best of both worlds (accuracy _and_ interpretability).  So you decide to start by learning a random forest classifier.  Describe at least one way of getting some interpretability out of the model by post-processing.  You could either pick a method from the literature (e.g., Domingos's work on combining multiple models or some method of computing variable importance), or come up with your own approach (doesn't have to be ground-breaking, but feel free to be creative!) (4 pts)"
   ]
  },
  {
   "cell_type": "markdown",
   "metadata": {},
   "source": [
    "**Answer:**\n",
    "\n",
    "I will use permutation method to calculate the varaible importance. For example in the question2 health care case, I will use the same dataset but disorder the target varaible radomly and make it pseudo variable. Then, I will retrain the model to see the delta of accuracy out of sample. Redo it on other variable. If the difference (delta) of one vairalbe is higher than others', the variable is more important."
   ]
  },
  {
   "cell_type": "markdown",
   "metadata": {},
   "source": [
    "###  Question 2: Build a decision tree for classification, step by step, following the lecture notes. Note that the dataset has been slightly modified, so you will get a different tree than the one shown in the lecture notes.  (30 points)"
   ]
  },
  {
   "cell_type": "code",
   "execution_count": 7,
   "metadata": {},
   "outputs": [],
   "source": [
    "import pandas as pd\n",
    "import numpy as np\n"
   ]
  },
  {
   "cell_type": "code",
   "execution_count": 8,
   "metadata": {},
   "outputs": [
    {
     "data": {
      "text/html": [
       "<div>\n",
       "<style scoped>\n",
       "    .dataframe tbody tr th:only-of-type {\n",
       "        vertical-align: middle;\n",
       "    }\n",
       "\n",
       "    .dataframe tbody tr th {\n",
       "        vertical-align: top;\n",
       "    }\n",
       "\n",
       "    .dataframe thead th {\n",
       "        text-align: right;\n",
       "    }\n",
       "</style>\n",
       "<table border=\"1\" class=\"dataframe\">\n",
       "  <thead>\n",
       "    <tr style=\"text-align: right;\">\n",
       "      <th></th>\n",
       "      <th>MPG</th>\n",
       "      <th>cylinders</th>\n",
       "      <th>HP</th>\n",
       "      <th>weight</th>\n",
       "    </tr>\n",
       "  </thead>\n",
       "  <tbody>\n",
       "    <tr>\n",
       "      <th>0</th>\n",
       "      <td>good</td>\n",
       "      <td>4</td>\n",
       "      <td>75</td>\n",
       "      <td>light</td>\n",
       "    </tr>\n",
       "    <tr>\n",
       "      <th>1</th>\n",
       "      <td>bad</td>\n",
       "      <td>6</td>\n",
       "      <td>90</td>\n",
       "      <td>medium</td>\n",
       "    </tr>\n",
       "    <tr>\n",
       "      <th>2</th>\n",
       "      <td>bad</td>\n",
       "      <td>4</td>\n",
       "      <td>110</td>\n",
       "      <td>medium</td>\n",
       "    </tr>\n",
       "    <tr>\n",
       "      <th>3</th>\n",
       "      <td>bad</td>\n",
       "      <td>8</td>\n",
       "      <td>175</td>\n",
       "      <td>weighty</td>\n",
       "    </tr>\n",
       "    <tr>\n",
       "      <th>4</th>\n",
       "      <td>bad</td>\n",
       "      <td>6</td>\n",
       "      <td>95</td>\n",
       "      <td>medium</td>\n",
       "    </tr>\n",
       "    <tr>\n",
       "      <th>5</th>\n",
       "      <td>bad</td>\n",
       "      <td>4</td>\n",
       "      <td>94</td>\n",
       "      <td>light</td>\n",
       "    </tr>\n",
       "    <tr>\n",
       "      <th>6</th>\n",
       "      <td>bad</td>\n",
       "      <td>4</td>\n",
       "      <td>95</td>\n",
       "      <td>light</td>\n",
       "    </tr>\n",
       "    <tr>\n",
       "      <th>7</th>\n",
       "      <td>bad</td>\n",
       "      <td>8</td>\n",
       "      <td>139</td>\n",
       "      <td>weighty</td>\n",
       "    </tr>\n",
       "    <tr>\n",
       "      <th>8</th>\n",
       "      <td>bad</td>\n",
       "      <td>8</td>\n",
       "      <td>190</td>\n",
       "      <td>weighty</td>\n",
       "    </tr>\n",
       "    <tr>\n",
       "      <th>9</th>\n",
       "      <td>bad</td>\n",
       "      <td>8</td>\n",
       "      <td>145</td>\n",
       "      <td>weighty</td>\n",
       "    </tr>\n",
       "    <tr>\n",
       "      <th>10</th>\n",
       "      <td>bad</td>\n",
       "      <td>6</td>\n",
       "      <td>100</td>\n",
       "      <td>medium</td>\n",
       "    </tr>\n",
       "    <tr>\n",
       "      <th>11</th>\n",
       "      <td>good</td>\n",
       "      <td>4</td>\n",
       "      <td>92</td>\n",
       "      <td>medium</td>\n",
       "    </tr>\n",
       "    <tr>\n",
       "      <th>12</th>\n",
       "      <td>bad</td>\n",
       "      <td>6</td>\n",
       "      <td>100</td>\n",
       "      <td>weighty</td>\n",
       "    </tr>\n",
       "    <tr>\n",
       "      <th>13</th>\n",
       "      <td>bad</td>\n",
       "      <td>8</td>\n",
       "      <td>170</td>\n",
       "      <td>weighty</td>\n",
       "    </tr>\n",
       "    <tr>\n",
       "      <th>14</th>\n",
       "      <td>good</td>\n",
       "      <td>4</td>\n",
       "      <td>89</td>\n",
       "      <td>medium</td>\n",
       "    </tr>\n",
       "    <tr>\n",
       "      <th>15</th>\n",
       "      <td>good</td>\n",
       "      <td>4</td>\n",
       "      <td>65</td>\n",
       "      <td>light</td>\n",
       "    </tr>\n",
       "    <tr>\n",
       "      <th>16</th>\n",
       "      <td>bad</td>\n",
       "      <td>6</td>\n",
       "      <td>85</td>\n",
       "      <td>medium</td>\n",
       "    </tr>\n",
       "    <tr>\n",
       "      <th>17</th>\n",
       "      <td>good</td>\n",
       "      <td>4</td>\n",
       "      <td>81</td>\n",
       "      <td>light</td>\n",
       "    </tr>\n",
       "    <tr>\n",
       "      <th>18</th>\n",
       "      <td>bad</td>\n",
       "      <td>6</td>\n",
       "      <td>95</td>\n",
       "      <td>medium</td>\n",
       "    </tr>\n",
       "    <tr>\n",
       "      <th>19</th>\n",
       "      <td>bad</td>\n",
       "      <td>4</td>\n",
       "      <td>93</td>\n",
       "      <td>light</td>\n",
       "    </tr>\n",
       "  </tbody>\n",
       "</table>\n",
       "</div>"
      ],
      "text/plain": [
       "     MPG  cylinders   HP   weight\n",
       "0   good          4   75    light\n",
       "1    bad          6   90   medium\n",
       "2    bad          4  110   medium\n",
       "3    bad          8  175  weighty\n",
       "4    bad          6   95   medium\n",
       "5    bad          4   94    light\n",
       "6    bad          4   95    light\n",
       "7    bad          8  139  weighty\n",
       "8    bad          8  190  weighty\n",
       "9    bad          8  145  weighty\n",
       "10   bad          6  100   medium\n",
       "11  good          4   92   medium\n",
       "12   bad          6  100  weighty\n",
       "13   bad          8  170  weighty\n",
       "14  good          4   89   medium\n",
       "15  good          4   65    light\n",
       "16   bad          6   85   medium\n",
       "17  good          4   81    light\n",
       "18   bad          6   95   medium\n",
       "19   bad          4   93    light"
      ]
     },
     "execution_count": 8,
     "metadata": {},
     "output_type": "execute_result"
    }
   ],
   "source": [
    "try:\n",
    "    from StringIO import StringIO\n",
    "except ImportError:\n",
    "    from io import StringIO\n",
    "thefile = StringIO('MPG,cylinders,HP,weight\\ngood,4,75,light\\nbad,6,90,medium\\nbad,4,110,medium\\nbad,8,175,weighty\\nbad,6,95,medium\\nbad,4,94,light\\nbad,4,95,light\\nbad,8,139,weighty\\nbad,8,190,weighty\\nbad,8,145,weighty\\nbad,6,100,medium\\ngood,4,92,medium\\nbad,6,100,weighty\\nbad,8,170,weighty\\ngood,4,89,medium\\ngood,4,65,light\\nbad,6,85,medium\\ngood,4,81,light\\nbad,6,95,medium\\nbad,4,93,light')\n",
    "df = pd.read_csv(thefile)\n",
    "df"
   ]
  },
  {
   "cell_type": "markdown",
   "metadata": {},
   "source": [
    "### Please use numpy and pandas to do the computation for parts a) through f).  Do not use an existing decision tree implementation like sklearn for this question."
   ]
  },
  {
   "cell_type": "markdown",
   "metadata": {},
   "source": [
    "a) Start with the entire dataset and find the most common MPG value. (2 pts)"
   ]
  },
  {
   "cell_type": "code",
   "execution_count": 43,
   "metadata": {},
   "outputs": [
    {
     "data": {
      "text/plain": [
       "bad     15\n",
       "good     5\n",
       "Name: MPG, dtype: int64"
      ]
     },
     "execution_count": 43,
     "metadata": {},
     "output_type": "execute_result"
    }
   ],
   "source": [
    "# your code here\n",
    "pd.value_counts(df['MPG'])"
   ]
  },
  {
   "cell_type": "code",
   "execution_count": 28,
   "metadata": {},
   "outputs": [],
   "source": [
    "def InformationGain(goodY,badY,goodN,badN):\n",
    "    def F(X,Y):\n",
    "        val1 = X*np.log2(1.*(X+Y)/X) if X>0 else 0\n",
    "        val2 = Y*np.log2(1.*(X+Y)/Y) if Y>0 else 0\n",
    "        return val1+val2\n",
    "    return (F(goodY+goodN,badY+badN)-F(goodY,badY)-F(goodN,badN)) / (goodY+goodN+badY+badN)"
   ]
  },
  {
   "cell_type": "markdown",
   "metadata": {},
   "source": [
    "b) Enumerate all the possible binary questions you could ask for each discrete-valued variable.  For each such split, compute the numbers of \"good\" and \"bad\" MPG vehicles in each of the two child nodes, and compute the information gain using the provided function above. (5 pts)"
   ]
  },
  {
   "cell_type": "code",
   "execution_count": 350,
   "metadata": {},
   "outputs": [],
   "source": [
    "# your code here\n",
    "def compareInfoGain_discrete(df,column,label_column):\n",
    "    '''df: dataframe, input the name of the dataframe; \n",
    "        column: string, input the name of one discrete-valued column of the dataframe '''\n",
    "    a = df[column].unique()\n",
    "    IG = 0\n",
    "    for i in list(a):\n",
    "        Y = pd.value_counts(df[df[column] == i][label_column])\n",
    "        if Y.index[0] == 'good':\n",
    "            goodY = Y.iloc[0]\n",
    "            badY = df[df[column] == i][label_column].count() -  goodY\n",
    "        else:\n",
    "            badY = Y.iloc[0]\n",
    "            goodY = df[df[column] == i][label_column].count() - badY\n",
    "        N = pd.value_counts(df[df[column] != i][label_column])\n",
    "        if N.index[0] == 'good':\n",
    "            goodN = N.iloc[0]\n",
    "            badN = df[df[column] != i][label_column].count() - goodN\n",
    "        else:\n",
    "            badN = N.iloc[0]\n",
    "            goodN = df[df[column] != i][label_column].count() - badN\n",
    "        ig = InformationGain(goodY,badY,goodN,badN)\n",
    "        #print (column, i, \":\",ig)\n",
    "        if IG < ig:\n",
    "            IG = ig\n",
    "            rule = i\n",
    "            gY = goodY\n",
    "            bY = badY\n",
    "            gN = goodN\n",
    "            bN = badN \n",
    "    print(\"The binary rule with the largest informatio is \\\"%s = %s\\\", with Information Gain %s\"%(column,rule,IG))\n",
    "    print(\"goodY:%d,badY:%d,goodN:%d,badN:%d\"%(gY,bY,gN,bN))\n",
    "    return IG,column,rule,gY,bY,gN,bY"
   ]
  },
  {
   "cell_type": "code",
   "execution_count": 351,
   "metadata": {},
   "outputs": [
    {
     "name": "stdout",
     "output_type": "stream",
     "text": [
      "The binary rule with the largest informatio is \"cylinders = 4\", with Information Gain 0.3652938975319328\n",
      "goodY:5,badY:4,goodN:0,badN:11\n",
      "(0.3652938975319328, 'cylinders', 4, 5, 4, 0, 4)\n",
      "\n",
      "The binary rule with the largest informatio is \"weight = weighty\", with Information Gain 0.15307795338969116\n",
      "goodY:0,badY:6,goodN:5,badN:9\n",
      "(0.15307795338969116, 'weight', 'weighty', 0, 6, 5, 6)\n"
     ]
    }
   ],
   "source": [
    "print(compareInfoGain_discrete(df,'cylinders','MPG'))\n",
    "print('')\n",
    "print(compareInfoGain_discrete(df,'weight','MPG'))"
   ]
  },
  {
   "cell_type": "code",
   "execution_count": null,
   "metadata": {},
   "outputs": [],
   "source": []
  },
  {
   "cell_type": "markdown",
   "metadata": {},
   "source": [
    "c) Enumerate all the possible binary questions you could ask for the real-valued variable HP.  For each such split, compute the numbers of \"good\" and \"bad\" MPG vehicles in each of the two child nodes, and compute the information gain using the provided function above. (5 pts) \n",
    "\n",
    "NOTE: if you'd like, you can just use all midpoints between consecutive values of the sorted HP attribute.  You are not required to exclude provably suboptimal questions like we did in the lecture."
   ]
  },
  {
   "cell_type": "code",
   "execution_count": 352,
   "metadata": {},
   "outputs": [],
   "source": [
    "# your code here\n",
    "def compareInfoGain_real(df,column,label_column):\n",
    "    '''df: input is the dataframe; \n",
    "        column: string, input the name of one consecutive value column from the dataframe '''\n",
    "    IG = 0\n",
    "    a = df.HP.sort_values(ascending=True)\n",
    "    midpoints = []\n",
    "    temp = pd.DataFrame(a).reset_index()[column]\n",
    "    for j in temp.index:\n",
    "        if j < temp.index[-2]:\n",
    "            midpoints.append(np.average([temp[j],temp[j+1]]))\n",
    "    #print(midpoints)\n",
    "    for i in midpoints:\n",
    "        Y = pd.value_counts(df[df[column] <= i][label_column])\n",
    "        if Y.index[0] == 'good':\n",
    "            goodY = Y.iloc[0]\n",
    "            badY = df[df[column] <= i][label_column].count() -  goodY\n",
    "        else:\n",
    "            badY = Y.iloc[0]\n",
    "            goodY = df[df[column] <= i][label_column].count() - badY\n",
    "        N = pd.value_counts(df[df[column] > i][label_column])\n",
    "        if N.index[0] == 'good':\n",
    "            goodN = N.iloc[0]\n",
    "            badN = df[df[column] > i][label_column].count() - goodN\n",
    "        else:\n",
    "            badN = N.iloc[0]\n",
    "            goodN = df[df[column] > i][label_column].count() - badN\n",
    "        ig = InformationGain(goodY,badY,goodN,badN)\n",
    "        #print (column, '<',i, \":\",ig)\n",
    "        if IG < ig:\n",
    "            IG = ig\n",
    "            rule = i\n",
    "            gY = goodY\n",
    "            bY = badY\n",
    "            gN = goodN\n",
    "            bN = badN \n",
    "    print(\"The binary rule with the largest informatio is \\\"%s < %s\\\", with Information Gain %s\"%(column,rule,IG))\n",
    "    print(\"goodY:%d,badY:%d,goodN:%d,badN:%d\"%(gY,bY,gN,bN))\n",
    "    return IG,column,rule,gY,bY,gN,bY\n"
   ]
  },
  {
   "cell_type": "code",
   "execution_count": 353,
   "metadata": {},
   "outputs": [
    {
     "name": "stdout",
     "output_type": "stream",
     "text": [
      "The binary rule with the largest informatio is \"HP < 92.5\", with Information Gain 0.5091859254608121\n",
      "goodY:5,badY:2,goodN:0,badN:13\n"
     ]
    },
    {
     "data": {
      "text/plain": [
       "(0.5091859254608121, 'HP', 92.5, 5, 2, 0, 2)"
      ]
     },
     "execution_count": 353,
     "metadata": {},
     "output_type": "execute_result"
    }
   ],
   "source": [
    "compareInfoGain_real(df,'HP','MPG')"
   ]
  },
  {
   "cell_type": "markdown",
   "metadata": {},
   "source": [
    "d) Based on your results for parts b and c, what is the optimal binary split of the data?  Of the two child nodes created by this split, which (if any) would require further partitioning? (4 pts)"
   ]
  },
  {
   "cell_type": "markdown",
   "metadata": {},
   "source": [
    "** Answer:**\n",
    "\n",
    "HP < 92.5 will be the optimal binary split rule with the highest info gain 0.51, and the further partitioning is the subset of data of which HP < 92.5, because the Yes Group both label \"good\" and label \"bad\" are not 0, while in No group  label \"good\" is 0."
   ]
  },
  {
   "cell_type": "markdown",
   "metadata": {},
   "source": [
    "e) Repeat parts a through d until all training data points are perfectly classified by the resulting tree. (6 pts)"
   ]
  },
  {
   "cell_type": "code",
   "execution_count": 354,
   "metadata": {},
   "outputs": [],
   "source": [
    "# your code here\n",
    "#one split\n",
    "def choose_split_rule(df,discrete_columns,real_columns, label_column = 'MPG'):\n",
    "    ig_ = np.zeros(7)\n",
    "    ig = np.zeros(7)\n",
    "    for i in discrete_columns:\n",
    "        ig_ = compareInfoGain_discrete(df,i,label_column)\n",
    "        if ig[0] < ig_[0]:\n",
    "            ig = ig_\n",
    "            Type = 'D' # return type of variable discrete\n",
    "\n",
    "    for j in real_columns[0]:\n",
    "        ig_ = compareInfoGain_real(df,real_columns,label_column)\n",
    "        if ig[0] < ig_[0]:\n",
    "            ig = ig_ #choose the optional rules\n",
    "            Type = 'R'# return tyoe of variable as real\n",
    "            \n",
    "    if Type == 'D':\n",
    "        if (ig[3] != 0) & (ig[4] != 0):\n",
    "            new_df = df[df[ig[1]] == ig[2]]\n",
    "        else:\n",
    "            new_df = df[df[ig[1]] != ig[2]]\n",
    "    else:\n",
    "        if (ig[3] != 0) & (ig[4] != 0):\n",
    "            new_df = df[df[ig[1]] <= ig[2]]\n",
    "        else:\n",
    "            new_df = df[df[ig[1]] > ig[2]]\n",
    "    return ig, Type, new_df"
   ]
  },
  {
   "cell_type": "code",
   "execution_count": 355,
   "metadata": {},
   "outputs": [
    {
     "name": "stdout",
     "output_type": "stream",
     "text": [
      "The binary rule with the largest informatio is \"cylinders = 4\", with Information Gain 0.3652938975319328\n",
      "goodY:5,badY:4,goodN:0,badN:11\n",
      "The binary rule with the largest informatio is \"weight = weighty\", with Information Gain 0.15307795338969116\n",
      "goodY:0,badY:6,goodN:5,badN:9\n",
      "The binary rule with the largest informatio is \"HP < 92.5\", with Information Gain 0.5091859254608121\n",
      "goodY:5,badY:2,goodN:0,badN:13\n"
     ]
    },
    {
     "data": {
      "text/plain": [
       "((0.5091859254608121, 'HP', 92.5, 5, 2, 0, 2),\n",
       " 'R',\n",
       "      MPG  cylinders  HP  weight\n",
       " 0   good          4  75   light\n",
       " 1    bad          6  90  medium\n",
       " 11  good          4  92  medium\n",
       " 14  good          4  89  medium\n",
       " 15  good          4  65   light\n",
       " 16   bad          6  85  medium\n",
       " 17  good          4  81   light)"
      ]
     },
     "execution_count": 355,
     "metadata": {},
     "output_type": "execute_result"
    }
   ],
   "source": [
    "df = df\n",
    "discrete_columns = ['cylinders','weight']\n",
    "real_columns = 'HP'\n",
    "choose_split_rule(df,discrete_columns,real_columns, label_column = 'MPG')"
   ]
  },
  {
   "cell_type": "code",
   "execution_count": null,
   "metadata": {},
   "outputs": [],
   "source": []
  },
  {
   "cell_type": "code",
   "execution_count": 380,
   "metadata": {},
   "outputs": [
    {
     "name": "stdout",
     "output_type": "stream",
     "text": [
      "The binary rule with the largest informatio is \"cylinders = 4\", with Information Gain 0.3652938975319328\n",
      "goodY:5,badY:4,goodN:0,badN:11\n",
      "The binary rule with the largest informatio is \"weight = weighty\", with Information Gain 0.15307795338969116\n",
      "goodY:0,badY:6,goodN:5,badN:9\n",
      "The binary rule with the largest informatio is \"HP < 92.5\", with Information Gain 0.5091859254608121\n",
      "goodY:5,badY:2,goodN:0,badN:13\n",
      "The binary rule with the largest informatio is \"cylinders = 4\", with Information Gain 0.3652938975319328\n",
      "goodY:5,badY:4,goodN:0,badN:11\n",
      "The binary rule with the largest informatio is \"weight = weighty\", with Information Gain 0.15307795338969116\n",
      "goodY:0,badY:6,goodN:5,badN:9\n",
      "The binary rule with the largest informatio is \"HP < 92.5\", with Information Gain 0.5091859254608121\n",
      "goodY:5,badY:2,goodN:0,badN:13\n",
      "The binary rule with the largest informatio is \"cylinders = 4\", with Information Gain 0.8631205685666309\n",
      "goodY:5,badY:0,goodN:0,badN:2\n",
      "The binary rule with the largest informatio is \"weight = light\", with Information Gain 0.2916919971380595\n",
      "goodY:3,badY:0,goodN:2,badN:2\n",
      "The binary rule with the largest informatio is \"HP < 83.0\", with Information Gain 0.2916919971380595\n",
      "goodY:3,badY:0,goodN:2,badN:2\n",
      "The binary rule with the largest informatio is \"cylinders = 4\", with Information Gain 0.8631205685666309\n",
      "goodY:5,badY:0,goodN:0,badN:2\n",
      "The binary rule with the largest informatio is \"weight = light\", with Information Gain 0.2916919971380595\n",
      "goodY:3,badY:0,goodN:2,badN:2\n",
      "The binary rule with the largest informatio is \"HP < 83.0\", with Information Gain 0.2916919971380595\n",
      "goodY:3,badY:0,goodN:2,badN:2\n",
      "[['0.5091859254608121' 'HP' '92.5' '5' '2' '0' '2']\n",
      " ['0.8631205685666309' 'cylinders' '4' '5' '0' '0' '0']]\n"
     ]
    }
   ],
   "source": [
    "#def decisiontree(dep=100):\n",
    "depth = 20\n",
    "W = []\n",
    "line = 0\n",
    "new_df = df\n",
    "Type = ''\n",
    "for i in range(depth-1): \n",
    "    W.append( choose_split_rule(new_df,discrete_columns= ['cylinders','weight'],real_columns='HP', label_column = 'MPG')[0])\n",
    "    new_df = choose_split_rule(new_df,discrete_columns= ['cylinders','weight'],real_columns='HP', label_column = 'MPG')[2]\n",
    "    new_df = new_df.reset_index(drop=True)\n",
    "    line +=1\n",
    "    if new_df.index[-1] < 2:\n",
    "        break\n",
    "W = np.array(W).reshape((line,7))\n",
    "print(W)"
   ]
  },
  {
   "cell_type": "markdown",
   "metadata": {},
   "source": [
    "f) Draw or show the final decision tree in a format of your choice.  The decision to make at each step and the predicted value at each leaf node must be clear. (4 pts)"
   ]
  },
  {
   "cell_type": "code",
   "execution_count": 381,
   "metadata": {},
   "outputs": [
    {
     "data": {
      "text/html": [
       "<div>\n",
       "<style scoped>\n",
       "    .dataframe tbody tr th:only-of-type {\n",
       "        vertical-align: middle;\n",
       "    }\n",
       "\n",
       "    .dataframe tbody tr th {\n",
       "        vertical-align: top;\n",
       "    }\n",
       "\n",
       "    .dataframe thead th {\n",
       "        text-align: right;\n",
       "    }\n",
       "</style>\n",
       "<table border=\"1\" class=\"dataframe\">\n",
       "  <thead>\n",
       "    <tr style=\"text-align: right;\">\n",
       "      <th></th>\n",
       "      <th>Information_Gain</th>\n",
       "      <th>Node_Feature Fuction</th>\n",
       "      <th>Threshold(&lt;Real value, =Discrete value)</th>\n",
       "      <th>Good_Yes</th>\n",
       "      <th>Bad_Yes</th>\n",
       "      <th>Good_No</th>\n",
       "      <th>Bad_No</th>\n",
       "      <th>Type</th>\n",
       "    </tr>\n",
       "  </thead>\n",
       "  <tbody>\n",
       "    <tr>\n",
       "      <th>0</th>\n",
       "      <td>0.5091859254608121</td>\n",
       "      <td>HP</td>\n",
       "      <td>92.5</td>\n",
       "      <td>5</td>\n",
       "      <td>2</td>\n",
       "      <td>0</td>\n",
       "      <td>2</td>\n",
       "      <td>Discrete</td>\n",
       "    </tr>\n",
       "    <tr>\n",
       "      <th>1</th>\n",
       "      <td>0.8631205685666309</td>\n",
       "      <td>cylinders</td>\n",
       "      <td>4</td>\n",
       "      <td>5</td>\n",
       "      <td>0</td>\n",
       "      <td>0</td>\n",
       "      <td>0</td>\n",
       "      <td>Real</td>\n",
       "    </tr>\n",
       "  </tbody>\n",
       "</table>\n",
       "</div>"
      ],
      "text/plain": [
       "     Information_Gain Node_Feature Fuction  \\\n",
       "0  0.5091859254608121                   HP   \n",
       "1  0.8631205685666309            cylinders   \n",
       "\n",
       "  Threshold(<Real value, =Discrete value) Good_Yes Bad_Yes Good_No Bad_No  \\\n",
       "0                                    92.5        5       2       0      2   \n",
       "1                                       4        5       0       0      0   \n",
       "\n",
       "       Type  \n",
       "0  Discrete  \n",
       "1      Real  "
      ]
     },
     "execution_count": 381,
     "metadata": {},
     "output_type": "execute_result"
    }
   ],
   "source": [
    "#Your answer here\n",
    "    \n",
    "W_show = pd.DataFrame(W, columns=['Information_Gain', \"Node_Feature Fuction\", \\\n",
    "                                  \"Threshold(<Real value, =Discrete value)\",\\\n",
    "                             \"Good_Yes\",\"Bad_Yes\",'Good_No','Bad_No'], index=None)\n",
    "W_show['Type'] = ['Discrete','Real']\n",
    "W_show"
   ]
  },
  {
   "cell_type": "code",
   "execution_count": 410,
   "metadata": {},
   "outputs": [
    {
     "name": "stdout",
     "output_type": "stream",
     "text": [
      "Node 1: HP < 92.5, goodY:5,badY:2,goodN:0,badN:2 \n",
      "When HP > 92.5, all the MPG are bad \n",
      "Node 2: cylinders = 4, goodY:5,badY:0,goodN:0,badN:0 \n",
      "When cylinders != 4, all the MPG are bad \n",
      "The rest of label are good\n"
     ]
    }
   ],
   "source": [
    "for i in range(2):\n",
    "    print('Node %i: %s %s %s, goodY:%s,badY:%s,goodN:%s,badN:%s '%(i+1,W[i,1],'<' if i==0 else '=',W[i,2],W[i,3],W[i,4],W[i,5],W[i,6]))\n",
    "    print('When %s %s %s, all the MPG are bad '%(W[i,1],'>' if i==0 else '!=',W[i,2]))\n",
    "print (\"The rest of labels are good\")"
   ]
  },
  {
   "cell_type": "markdown",
   "metadata": {},
   "source": [
    "g) Classify each of the following four vehicles as having \"good\" or \"bad\" fuel efficiency (miles per gallon).  Do this by hand using the tree structure learned in part f. (4 pts)\n",
    "\n",
    "Answer:\n",
    "\n",
    "Bad,8,70,light\n",
    "\n",
    "Bad,6,113,medium\n",
    "\n",
    "Good,4,83,weighty\n",
    "\n",
    "Bad,4,95,weighty\n"
   ]
  },
  {
   "cell_type": "markdown",
   "metadata": {},
   "source": [
    "### Question 3, Predicting burden of disease （40 pts)"
   ]
  },
  {
   "cell_type": "code",
   "execution_count": 543,
   "metadata": {},
   "outputs": [
    {
     "data": {
      "text/html": [
       "<div>\n",
       "<style scoped>\n",
       "    .dataframe tbody tr th:only-of-type {\n",
       "        vertical-align: middle;\n",
       "    }\n",
       "\n",
       "    .dataframe tbody tr th {\n",
       "        vertical-align: top;\n",
       "    }\n",
       "\n",
       "    .dataframe thead th {\n",
       "        text-align: right;\n",
       "    }\n",
       "</style>\n",
       "<table border=\"1\" class=\"dataframe\">\n",
       "  <thead>\n",
       "    <tr style=\"text-align: right;\">\n",
       "      <th></th>\n",
       "      <th>Country</th>\n",
       "      <th>FrxnPeaceIn10</th>\n",
       "      <th>ODA4H2OPcptaDol</th>\n",
       "      <th>RenewResm3PcptaYr</th>\n",
       "      <th>SustAccImprWatRur</th>\n",
       "      <th>SustAccImprWatUrb</th>\n",
       "      <th>SustAccImprSanRur</th>\n",
       "      <th>SustAccImprSanUrb</th>\n",
       "      <th>TotHlthExpPctofGDP</th>\n",
       "      <th>GenGovtPctofTotHlthExp</th>\n",
       "      <th>ExtResHlthPctTotExpHlth</th>\n",
       "      <th>PCptaGovtExpHlthAvgExcRt</th>\n",
       "      <th>GDPPCptaIntDol</th>\n",
       "      <th>AdultLtrcyRate</th>\n",
       "      <th>FemaleLtrcyRate</th>\n",
       "      <th>BurdenOfDisease</th>\n",
       "    </tr>\n",
       "  </thead>\n",
       "  <tbody>\n",
       "    <tr>\n",
       "      <th>0</th>\n",
       "      <td>Afghanistan</td>\n",
       "      <td>0.1</td>\n",
       "      <td>0.16</td>\n",
       "      <td>2986</td>\n",
       "      <td>0.10891</td>\n",
       "      <td>0.18812</td>\n",
       "      <td>0.049505</td>\n",
       "      <td>0.15842</td>\n",
       "      <td>0.065</td>\n",
       "      <td>0.395</td>\n",
       "      <td>0.4560</td>\n",
       "      <td>4</td>\n",
       "      <td>430</td>\n",
       "      <td>0.35644</td>\n",
       "      <td>0.20792</td>\n",
       "      <td>awful</td>\n",
       "    </tr>\n",
       "    <tr>\n",
       "      <th>1</th>\n",
       "      <td>Albania</td>\n",
       "      <td>1.0</td>\n",
       "      <td>5.58</td>\n",
       "      <td>13306</td>\n",
       "      <td>0.94059</td>\n",
       "      <td>0.98020</td>\n",
       "      <td>0.801980</td>\n",
       "      <td>0.98020</td>\n",
       "      <td>0.065</td>\n",
       "      <td>0.417</td>\n",
       "      <td>0.0340</td>\n",
       "      <td>49</td>\n",
       "      <td>6158</td>\n",
       "      <td>0.85644</td>\n",
       "      <td>0.78713</td>\n",
       "      <td>low</td>\n",
       "    </tr>\n",
       "    <tr>\n",
       "      <th>2</th>\n",
       "      <td>Algeria</td>\n",
       "      <td>0.0</td>\n",
       "      <td>0.33</td>\n",
       "      <td>473</td>\n",
       "      <td>0.79208</td>\n",
       "      <td>0.91089</td>\n",
       "      <td>0.811880</td>\n",
       "      <td>0.98020</td>\n",
       "      <td>0.041</td>\n",
       "      <td>0.808</td>\n",
       "      <td>0.0005</td>\n",
       "      <td>71</td>\n",
       "      <td>4860</td>\n",
       "      <td>0.69307</td>\n",
       "      <td>0.60396</td>\n",
       "      <td>high</td>\n",
       "    </tr>\n",
       "  </tbody>\n",
       "</table>\n",
       "</div>"
      ],
      "text/plain": [
       "       Country  FrxnPeaceIn10  ODA4H2OPcptaDol  RenewResm3PcptaYr  \\\n",
       "0  Afghanistan            0.1             0.16               2986   \n",
       "1      Albania            1.0             5.58              13306   \n",
       "2      Algeria            0.0             0.33                473   \n",
       "\n",
       "   SustAccImprWatRur  SustAccImprWatUrb  SustAccImprSanRur  SustAccImprSanUrb  \\\n",
       "0            0.10891            0.18812           0.049505            0.15842   \n",
       "1            0.94059            0.98020           0.801980            0.98020   \n",
       "2            0.79208            0.91089           0.811880            0.98020   \n",
       "\n",
       "   TotHlthExpPctofGDP  GenGovtPctofTotHlthExp  ExtResHlthPctTotExpHlth  \\\n",
       "0               0.065                   0.395                   0.4560   \n",
       "1               0.065                   0.417                   0.0340   \n",
       "2               0.041                   0.808                   0.0005   \n",
       "\n",
       "   PCptaGovtExpHlthAvgExcRt  GDPPCptaIntDol  AdultLtrcyRate  FemaleLtrcyRate  \\\n",
       "0                         4             430         0.35644          0.20792   \n",
       "1                        49            6158         0.85644          0.78713   \n",
       "2                        71            4860         0.69307          0.60396   \n",
       "\n",
       "  BurdenOfDisease  \n",
       "0           awful  \n",
       "1             low  \n",
       "2            high  "
      ]
     },
     "execution_count": 543,
     "metadata": {},
     "output_type": "execute_result"
    }
   ],
   "source": [
    "data=pd.read_csv(\"Burden of diarrheal illness by country.csv\")\n",
    "data.head(3)"
   ]
  },
  {
   "cell_type": "markdown",
   "metadata": {},
   "source": [
    "### Data dictionary\n",
    "\n",
    "NAME: Burden of diarrheal illness by country\n",
    "\n",
    "SIZE: 130 Countries, 16 Variables\n",
    "\n",
    "VARIABLE DESCRIPTIONS:\n",
    "\n",
    "Country: Country name\n",
    "\n",
    "FrxnPeaceIn10: Fraction of the past ten years in which a country has been at peace \n",
    "\n",
    "ODA4H2OPcptaDol: Per Capita Official Developmental Assistance for water projects\n",
    "\n",
    "RenewResm3PcptaYr: Renewable Water Resources in cubic meters per capita per year\n",
    "\n",
    "SustAccImprWatRur: Fraction of rural population with sustainable access to improved water\n",
    "\n",
    "SustAccImprWatUrb: Fraction of urban population with sustainable access to improved water\n",
    "\n",
    "SustAccImprSanRur: Fraction of rural population with sustainable access to improved sanitation\n",
    "\n",
    "SustAccImprSanUrb: Fraction of urban population with sustainable access to improved sanitation\n",
    "\n",
    "TotHlthExpPctofGDP: Fraction of a country's GDP devoted to health spending\n",
    "\n",
    "GenGovtPctofTotHlthExp: The fraction of total health expenditures for a country which is provided by the government\n",
    "\n",
    "ExtResHlthPctTotExpHlth: The fraction of total health expenditures for a country which is comes from sources external to the country\n",
    "\n",
    "PCptaGovtExpHlthAvgExcRt: Per Capita Government Health Expenditures at the average exchange rate\n",
    "\n",
    "GDPPCptaIntDol: Gross Domestic Product per capita in international dollars\n",
    "\n",
    "AdultLtrcyRate: Adult Literacy rate\n",
    "\n",
    "FemaleLtrcyRate: Female Literacy rate\n",
    "\n",
    "BurdenOfDisease: Our target variable for classification.  The burden of disease due to diarrheal illness, categorized into \"low\", \"medium\", \"high\", and \"awful\" quartiles.  For each country, we have estimates of the number of Disability-Adjusted Life Years lost per 1000 persons per year (DALYs) due to diarrheal illness.  Countries with \"low\" burden of disease have up to 2.75345 DALYs; countries with \"medium\" burden of disease have between 2.75345 and 8.2127 DALYs; countries with \"high\" burden of disease have between 8.2127 and 26.699 DALYs; and countries with \"awful\" burden of diease have more than 26.699 DALYs."
   ]
  },
  {
   "cell_type": "markdown",
   "metadata": {},
   "source": [
    "### Your goal is to train a decision tree classifier for the attribute “BurdenOfDisease\" using all other variables (except country name) as features with sklearn.tree.DecisionTreeClassifier. \n",
    "http://scikit-learn.org/stable/modules/generated/sklearn.tree.DecisionTreeClassifier.html"
   ]
  },
  {
   "cell_type": "markdown",
   "metadata": {},
   "source": [
    "a) Please choose a train/test split and choose a hyper-parameter governing model simplicity, for example, the maximum tree depth or maximum number of leaf nodes. Then, fit your decision tree classifier (using the training set) for different values of this parameter and for each such value, record the corresponding classification accuracy on the test set. (10 pts)"
   ]
  },
  {
   "cell_type": "code",
   "execution_count": 544,
   "metadata": {},
   "outputs": [
    {
     "name": "stdout",
     "output_type": "stream",
     "text": [
      "    FrxnPeaceIn10  ODA4H2OPcptaDol  RenewResm3PcptaYr  SustAccImprWatRur  \\\n",
      "7             1.0             0.00                 66            0.85149   \n",
      "53            1.0             8.04             317000            0.82178   \n",
      "15            1.0             4.19               9345            0.89109   \n",
      "36            0.4             0.12              25183            0.28713   \n",
      "12            1.0             2.87              45564            0.59406   \n",
      "\n",
      "    SustAccImprWatUrb  SustAccImprSanRur  SustAccImprSanUrb  \\\n",
      "7             0.97030            0.99010            0.99010   \n",
      "53            0.82178            0.59406            0.85149   \n",
      "15            0.99010            0.24752            0.56436   \n",
      "36            0.82178            0.22772            0.42574   \n",
      "12            0.85149            0.69307            0.64356   \n",
      "\n",
      "    TotHlthExpPctofGDP  GenGovtPctofTotHlthExp  ExtResHlthPctTotExpHlth  \\\n",
      "7                0.064                   0.475                    0.002   \n",
      "53               0.048                   0.826                    0.032   \n",
      "15               0.056                   0.582                    0.029   \n",
      "36               0.040                   0.183                    0.151   \n",
      "12               0.031                   0.835                    0.186   \n",
      "\n",
      "    PCptaGovtExpHlthAvgExcRt  GDPPCptaIntDol  AdultLtrcyRate  FemaleLtrcyRate  \n",
      "7                        533           19930         0.94653          0.95545  \n",
      "53                        44            6198         0.97822          0.97525  \n",
      "15                       135            7344         0.79010          0.81584  \n",
      "36                         1             382         0.64851          0.54554  \n",
      "12                         9            2035         0.46535          0.33663  \n"
     ]
    }
   ],
   "source": [
    "from sklearn.model_selection import train_test_split\n",
    "from sklearn.tree import DecisionTreeClassifier\n",
    "from sklearn.metrics import roc_auc_score, make_scorer\n",
    "\n",
    "data=data.dropna()\n",
    "\n",
    "# Let's take \"BurdenOfDisease\" as the target variable. \n",
    "y=data.loc[:,\"BurdenOfDisease\"]\n",
    "\n",
    "X=data.loc[:,'FrxnPeaceIn10':\"FemaleLtrcyRate\"]\n",
    "X=pd.get_dummies(X)\n",
    "\n",
    "# Split data into 70% train, 30% test\n",
    "X_train,X_test,y_train,y_test=train_test_split(X, y, test_size=0.3, random_state=999)\n",
    "print (X_train.head())"
   ]
  },
  {
   "cell_type": "code",
   "execution_count": 545,
   "metadata": {},
   "outputs": [
    {
     "name": "stdout",
     "output_type": "stream",
     "text": [
      "[0.3333333333333333, 0.6923076923076923, 0.6410256410256411, 0.6410256410256411, 0.6153846153846154, 0.6410256410256411, 0.6410256410256411, 0.6666666666666666, 0.6410256410256411, 0.6666666666666666, 0.6666666666666666, 0.6666666666666666, 0.6666666666666666, 0.6153846153846154, 0.6666666666666666, 0.6410256410256411, 0.6410256410256411, 0.6410256410256411, 0.6666666666666666, 0.6410256410256411] /// [0.7196544578853047, 0.7922995071684586, 0.7507444476446492, 0.7506184395801332, 0.7328233006912442, 0.7507444476446492, 0.7506184395801332, 0.7727682571684589, 0.7507444476446492, 0.7704101062467998, 0.7702756976446492, 0.7701496895801332, 0.7702756976446492, 0.7329493087557604, 0.7727682571684589, 0.7506184395801332, 0.7507444476446492, 0.7506184395801332, 0.7726422491039426, 0.7507444476446492]\n"
     ]
    }
   ],
   "source": [
    "AUC_OS=[]\n",
    "Acc = []\n",
    "for i in range(2,500,25):\n",
    "    dt=DecisionTreeClassifier(max_leaf_nodes=i)\n",
    "    dt.fit(X_train,y_train)\n",
    "    y_true = pd.get_dummies(y_test)\n",
    "    \n",
    "    AUC_OS.append(roc_auc_score(np.array(y_true),dt.predict_proba(X_test)[:,:],average='macro'))\n",
    "    Acc.append(dt.score(X_test,y_test))\n",
    "print(Acc,'///',AUC_OS)"
   ]
  },
  {
   "cell_type": "markdown",
   "metadata": {},
   "source": [
    "b) Make a plot of accuracy vs. simplicity for different values of the hyper-parameter chosen in part a). That is, the x-axis should be hyper-parameter value (e.g. tree depth) and the y-axis should be accuracy. (10 pts)"
   ]
  },
  {
   "cell_type": "code",
   "execution_count": 553,
   "metadata": {},
   "outputs": [
    {
     "name": "stdout",
     "output_type": "stream",
     "text": [
      "Populating the interactive namespace from numpy and matplotlib\n"
     ]
    },
    {
     "name": "stderr",
     "output_type": "stream",
     "text": [
      "/anaconda3/lib/python3.6/site-packages/IPython/core/magics/pylab.py:160: UserWarning: pylab import has clobbered these variables: ['plt']\n",
      "`%matplotlib` prevents importing * from pylab and numpy\n",
      "  \"\\n`%matplotlib` prevents importing * from pylab and numpy\"\n"
     ]
    },
    {
     "data": {
      "text/plain": [
       "<matplotlib.legend.Legend at 0x1a20278860>"
      ]
     },
     "execution_count": 553,
     "metadata": {},
     "output_type": "execute_result"
    },
    {
     "data": {
      "image/png": "[encoded data removed]",
      "text/plain": [
       "<Figure size 504x360 with 1 Axes>"
      ]
     },
     "metadata": {},
     "output_type": "display_data"
    }
   ],
   "source": [
    "import matplotlib.pylab as plt\n",
    "\n",
    "# your code here\n",
    "%pylab inline\n",
    "plt.figure(figsize=(7,5))\n",
    "plt.plot(range(2,500,25),AUC_OS,label='AUC_OS')\n",
    "plt.plot(range(2,500,25),Acc,label='Mean Accuracy')\n",
    "plt.xlabel(\"Max leaf nodes\")\n",
    "plt.ylabel(\"OS_AUC\")\n",
    "plt.title(\"AUC/Accuracy vs Simplicity (max leaf nodes)\")\n",
    "plt.xlim(2,500)\n",
    "plt.legend()"
   ]
  },
  {
   "cell_type": "markdown",
   "metadata": {},
   "source": [
    "c) Tune the hyper-parameter you choose in part a) by cross-validation using the training data. You can choose to use the GridSearchCV package from sklearn or write your own code to do cross-validation by spliting the training data into training and validation data. What is the out of sample accuracy after tuning the hyper-parameter? (10 pts)"
   ]
  },
  {
   "cell_type": "code",
   "execution_count": 554,
   "metadata": {},
   "outputs": [],
   "source": [
    "my_scorer = make_scorer(roc_auc_score, average='micro')"
   ]
  },
  {
   "cell_type": "code",
   "execution_count": 572,
   "metadata": {},
   "outputs": [
    {
     "name": "stdout",
     "output_type": "stream",
     "text": [
      "{'max_leaf_nodes': 27}\n",
      "rs out of sample mean accuracy score is 0.7948717948717948\n"
     ]
    }
   ],
   "source": [
    "from sklearn.model_selection import GridSearchCV\n",
    "\n",
    "# your code here\n",
    "#X_train2,X_val,y_train2,y_val=train_test_split(X_train, y_train, test_size=0.3, random_state=999)\n",
    "y_true = pd.get_dummies(y_train)\n",
    "param_grid = {'max_leaf_nodes':range(2,500,25)}\n",
    "dt=DecisionTreeClassifier()\n",
    "gr=GridSearchCV(dt,param_grid=param_grid,scoring=my_scorer)\n",
    "rs=gr.fit(X_train,y_true)\n",
    "print (rs.best_params_)\n",
    "\n",
    "y_testt = pd.get_dummies(y_test)\n",
    "rs_s = rs.score(X_test,y_testt)\n",
    "print('rs out of sample mean accuracy score is', rs_s)\n",
    "#print (roc_auc_score(np.array(y_true),dt.predict_proba(X_test),average='macro'))"
   ]
  },
  {
   "cell_type": "markdown",
   "metadata": {},
   "source": [
    "d) Visualize a simple decision tree (e.g., with max_depth = 2 or 3) learned from the data.  To do so, given your decision tree dt, you can use the code below, then copy and paste the resulting output into http://www.webgraphviz.com.  Alternatively, if you have graphviz installed on your machine, you can use that. (5 pts)"
   ]
  },
  {
   "cell_type": "code",
   "execution_count": 573,
   "metadata": {
    "scrolled": false
   },
   "outputs": [
    {
     "name": "stdout",
     "output_type": "stream",
     "text": [
      "digraph Tree {\n",
      "node [shape=box, style=\"filled, rounded\", color=\"black\", fontname=helvetica] ;\n",
      "edge [fontname=helvetica] ;\n",
      "0 [label=\"AdultLtrcyRate <= 0.856, samples = 91, value = [17, 25, 26, 23], class = low\", fillcolor=\"#399de504\"] ;\n",
      "1 [label=\"GDPPCptaIntDol <= 1094.0, samples = 48, value = [17, 22, 1, 8], class = high\", fillcolor=\"#47e53929\"] ;\n",
      "0 -> 1 [labeldistance=2.5, labelangle=45, headlabel=\"True\"] ;\n",
      "2 [label=\"samples = 9, value = [9, 0, 0, 0], class = awful\", fillcolor=\"#e58139ff\"] ;\n",
      "1 -> 2 ;\n",
      "3 [label=\"samples = 39, value = [8, 22, 1, 8], class = high\", fillcolor=\"#47e53973\"] ;\n",
      "1 -> 3 ;\n",
      "4 [label=\"SustAccImprSanUrb <= 0.842, samples = 43, value = [0, 3, 25, 15], class = low\", fillcolor=\"#399de55b\"] ;\n",
      "0 -> 4 [labeldistance=2.5, labelangle=-45, headlabel=\"False\"] ;\n",
      "5 [label=\"samples = 12, value = [0, 2, 1, 9], class = medium\", fillcolor=\"#d739e5b2\"] ;\n",
      "4 -> 5 ;\n",
      "6 [label=\"samples = 31, value = [0, 1, 24, 6], class = low\", fillcolor=\"#399de5b8\"] ;\n",
      "4 -> 6 ;\n",
      "}\n"
     ]
    }
   ],
   "source": [
    "from sklearn import tree\n",
    "\n",
    "# your code here\n",
    "dt=DecisionTreeClassifier(max_depth = 2).fit(X_train,y_train)\n",
    "thestring=tree.export_graphviz(dt,out_file=None,\n",
    "                         feature_names=X_train.columns.values,  \n",
    "                         class_names=dt.classes_,  \n",
    "                         filled=True, rounded=True,  \n",
    "                         special_characters=True,impurity=False).replace(\"<br/>\",\", \").replace(\"&le;\",\"<=\").replace(\"=<\",\"=\\\"\").replace(\">,\",\"\\\",\")\n",
    "print( thestring)"
   ]
  },
  {
   "cell_type": "code",
   "execution_count": 574,
   "metadata": {},
   "outputs": [
    {
     "data": {
      "image/png": "[encoded data removed]",
      "text/plain": [
       "<IPython.core.display.Image object>"
      ]
     },
     "execution_count": 574,
     "metadata": {},
     "output_type": "execute_result"
    }
   ],
   "source": [
    "from IPython.display import Image  \n",
    "import pydotplus\n",
    "\n",
    "graph = pydotplus.graph_from_dot_data(thestring)  \n",
    "Image(graph.create_png()) "
   ]
  },
  {
   "cell_type": "markdown",
   "metadata": {},
   "source": [
    "### Question 4, Fit a random forest to the data from question 3 (20 pts)\n",
    "\n",
    "a) Please use the same test/train split from previous question and feel free to tune the hyper-parameters for Random Forest model using training data. The package from sklearn is here: http://scikit-learn.org/stable/modules/generated/sklearn.ensemble.RandomForestClassifier.html.\n",
    "Then please report your out of sample prediction result and compare this model's performance with 3c). (10 pts)"
   ]
  },
  {
   "cell_type": "code",
   "execution_count": 575,
   "metadata": {},
   "outputs": [
    {
     "name": "stdout",
     "output_type": "stream",
     "text": [
      "Best hyper-parameters is {'max_leaf_nodes': 27}\n",
      "RandomForest Classifier out of sameple mean accuracy score is 0.9003046861665814\n",
      "Randomforest Classification is better\n"
     ]
    }
   ],
   "source": [
    "from sklearn.ensemble import RandomForestClassifier\n",
    "from sklearn.model_selection import GridSearchCV\n",
    "\n",
    "# your code here\n",
    "param_grid = {'max_leaf_nodes':range(2,500,25)}\n",
    "dt=RandomForestClassifier()\n",
    "gs=GridSearchCV(dt,param_grid=param_grid,scoring='roc_auc')\n",
    "rfc=gs.fit(X_train,y_true)\n",
    "rfc_s = rfc.score(X_test,y_testt)\n",
    "print ('Best hyper-parameters is',rs.best_params_)\n",
    "print('RandomForest Classifier out of sameple mean accuracy score is', rfc_s)\n",
    "\n",
    "#Compare Random Forest Classification and Decision Model Tree\n",
    "if rfc_s > rs_s:\n",
    "    print('Randomforest Classification is better')\n",
    "elif rfc_s == rs_s:\n",
    "    print('Same performance')\n",
    "else:\n",
    "    print('Decision tree is better')\n",
    "    "
   ]
  },
  {
   "cell_type": "markdown",
   "metadata": {
    "collapsed": true
   },
   "source": [
    "b) Write one paragraph comparing the results from those two models (Random Forest vs Decision Tree) in terms of both accuracy and interpretability. (10 pts)"
   ]
  },
  {
   "cell_type": "markdown",
   "metadata": {
    "collapsed": true
   },
   "source": [
    "**Answer:**\n",
    "\n",
    "According to Out of sample mean accuracy(see the code above), the Random forest performs better than one decision tree. \n",
    "However, I can get the feature importance  score  for decision model but the discrepency of  feature importance score from Random forest tree is not very significant and difficult to interpret the cause and effect according to the algorithm. As to the interpretability, the decision tree performs better.( See the code below)"
   ]
  },
  {
   "cell_type": "code",
   "execution_count": 593,
   "metadata": {},
   "outputs": [
    {
     "data": {
      "text/html": [
       "<div>\n",
       "<style scoped>\n",
       "    .dataframe tbody tr th:only-of-type {\n",
       "        vertical-align: middle;\n",
       "    }\n",
       "\n",
       "    .dataframe tbody tr th {\n",
       "        vertical-align: top;\n",
       "    }\n",
       "\n",
       "    .dataframe thead th {\n",
       "        text-align: right;\n",
       "    }\n",
       "</style>\n",
       "<table border=\"1\" class=\"dataframe\">\n",
       "  <thead>\n",
       "    <tr style=\"text-align: right;\">\n",
       "      <th></th>\n",
       "      <th>variables</th>\n",
       "      <th>importance</th>\n",
       "    </tr>\n",
       "  </thead>\n",
       "  <tbody>\n",
       "    <tr>\n",
       "      <th>12</th>\n",
       "      <td>AdultLtrcyRate</td>\n",
       "      <td>0.157473</td>\n",
       "    </tr>\n",
       "    <tr>\n",
       "      <th>13</th>\n",
       "      <td>FemaleLtrcyRate</td>\n",
       "      <td>0.143909</td>\n",
       "    </tr>\n",
       "    <tr>\n",
       "      <th>3</th>\n",
       "      <td>SustAccImprWatRur</td>\n",
       "      <td>0.103908</td>\n",
       "    </tr>\n",
       "    <tr>\n",
       "      <th>6</th>\n",
       "      <td>SustAccImprSanUrb</td>\n",
       "      <td>0.100582</td>\n",
       "    </tr>\n",
       "    <tr>\n",
       "      <th>11</th>\n",
       "      <td>GDPPCptaIntDol</td>\n",
       "      <td>0.0971112</td>\n",
       "    </tr>\n",
       "  </tbody>\n",
       "</table>\n",
       "</div>"
      ],
      "text/plain": [
       "            variables importance\n",
       "12     AdultLtrcyRate   0.157473\n",
       "13    FemaleLtrcyRate   0.143909\n",
       "3   SustAccImprWatRur   0.103908\n",
       "6   SustAccImprSanUrb   0.100582\n",
       "11     GDPPCptaIntDol  0.0971112"
      ]
     },
     "execution_count": 593,
     "metadata": {},
     "output_type": "execute_result"
    }
   ],
   "source": [
    "# Random Forest Feature importance ---top 5 feature\n",
    "hyper_para = rs.best_params_['max_leaf_nodes']\n",
    "dt=RandomForestClassifier(max_leaf_nodes= hyper_para )\n",
    "rfc_ = dt.fit(X_train,y_true)\n",
    "Feature_importance=pd.DataFrame([list(X_train.columns),list(rfc_.feature_importances_)]).T\n",
    "Feature_importance.columns=[\"variables\",\"importance\"]\n",
    "\n",
    "# list the top 5 most important features in order\n",
    "Feature_importance.sort_values(by=\"importance\",ascending=False).iloc[:5,:]"
   ]
  },
  {
   "cell_type": "code",
   "execution_count": 594,
   "metadata": {},
   "outputs": [
    {
     "data": {
      "text/html": [
       "<div>\n",
       "<style scoped>\n",
       "    .dataframe tbody tr th:only-of-type {\n",
       "        vertical-align: middle;\n",
       "    }\n",
       "\n",
       "    .dataframe tbody tr th {\n",
       "        vertical-align: top;\n",
       "    }\n",
       "\n",
       "    .dataframe thead th {\n",
       "        text-align: right;\n",
       "    }\n",
       "</style>\n",
       "<table border=\"1\" class=\"dataframe\">\n",
       "  <thead>\n",
       "    <tr style=\"text-align: right;\">\n",
       "      <th></th>\n",
       "      <th>variables</th>\n",
       "      <th>importance</th>\n",
       "    </tr>\n",
       "  </thead>\n",
       "  <tbody>\n",
       "    <tr>\n",
       "      <th>12</th>\n",
       "      <td>AdultLtrcyRate</td>\n",
       "      <td>0.247353</td>\n",
       "    </tr>\n",
       "    <tr>\n",
       "      <th>11</th>\n",
       "      <td>GDPPCptaIntDol</td>\n",
       "      <td>0.158897</td>\n",
       "    </tr>\n",
       "    <tr>\n",
       "      <th>13</th>\n",
       "      <td>FemaleLtrcyRate</td>\n",
       "      <td>0.151244</td>\n",
       "    </tr>\n",
       "    <tr>\n",
       "      <th>6</th>\n",
       "      <td>SustAccImprSanUrb</td>\n",
       "      <td>0.122536</td>\n",
       "    </tr>\n",
       "    <tr>\n",
       "      <th>9</th>\n",
       "      <td>ExtResHlthPctTotExpHlth</td>\n",
       "      <td>0.118729</td>\n",
       "    </tr>\n",
       "  </tbody>\n",
       "</table>\n",
       "</div>"
      ],
      "text/plain": [
       "                  variables importance\n",
       "12           AdultLtrcyRate   0.247353\n",
       "11           GDPPCptaIntDol   0.158897\n",
       "13          FemaleLtrcyRate   0.151244\n",
       "6         SustAccImprSanUrb   0.122536\n",
       "9   ExtResHlthPctTotExpHlth   0.118729"
      ]
     },
     "execution_count": 594,
     "metadata": {},
     "output_type": "execute_result"
    }
   ],
   "source": [
    "# Decision Tree Feature importance---top 5 feature\n",
    "hyper_para = rs.best_params_['max_leaf_nodes']\n",
    "dt=DecisionTreeClassifier(max_leaf_nodes= hyper_para )\n",
    "rs_ = dt.fit(X_train,y_true)\n",
    "Feature_importance=pd.DataFrame([list(X_train.columns),list(rs_.feature_importances_)]).T\n",
    "Feature_importance.columns=[\"variables\",\"importance\"]\n",
    "\n",
    "# list the top 5 most important features in order\n",
    "Feature_importance.sort_values(by=\"importance\",ascending=False).iloc[:5,:]"
   ]
  },
  {
   "cell_type": "code",
   "execution_count": null,
   "metadata": {},
   "outputs": [],
   "source": []
  }
 ],
 "metadata": {
  "anaconda-cloud": {},
  "celltoolbar": "Raw Cell Format",
  "kernelspec": {
   "display_name": "Python 3",
   "language": "python",
   "name": "python3"
  },
  "language_info": {
   "codemirror_mode": {
    "name": "ipython",
    "version": 3
   },
   "file_extension": ".py",
   "mimetype": "text/x-python",
   "name": "python",
   "nbconvert_exporter": "python",
   "pygments_lexer": "ipython3",
   "version": "3.6.5"
  }
 },
 "nbformat": 4,
 "nbformat_minor": 2
}
